{
 "cells": [
  {
   "cell_type": "code",
   "execution_count": 1,
   "id": "bd8c8357",
   "metadata": {},
   "outputs": [],
   "source": [
    "import numpy as np\n",
    "import pandas as pd\n",
    "import seaborn as sns\n",
    "import warnings\n",
    "warnings.filterwarnings('ignore')"
   ]
  },
  {
   "cell_type": "code",
   "execution_count": 2,
   "id": "230b0e76",
   "metadata": {},
   "outputs": [],
   "source": [
    "data = pd.read_csv('data.csv')"
   ]
  },
  {
   "cell_type": "code",
   "execution_count": 3,
   "id": "d646abab",
   "metadata": {},
   "outputs": [
    {
     "data": {
      "text/html": [
       "<div>\n",
       "<style scoped>\n",
       "    .dataframe tbody tr th:only-of-type {\n",
       "        vertical-align: middle;\n",
       "    }\n",
       "\n",
       "    .dataframe tbody tr th {\n",
       "        vertical-align: top;\n",
       "    }\n",
       "\n",
       "    .dataframe thead th {\n",
       "        text-align: right;\n",
       "    }\n",
       "</style>\n",
       "<table border=\"1\" class=\"dataframe\">\n",
       "  <thead>\n",
       "    <tr style=\"text-align: right;\">\n",
       "      <th></th>\n",
       "      <th>Unnamed: 0</th>\n",
       "      <th>ID</th>\n",
       "      <th>ID_status</th>\n",
       "      <th>active</th>\n",
       "      <th>count_reassign</th>\n",
       "      <th>count_opening</th>\n",
       "      <th>count_updated</th>\n",
       "      <th>ID_caller</th>\n",
       "      <th>opened_by</th>\n",
       "      <th>opened_time</th>\n",
       "      <th>...</th>\n",
       "      <th>category_ID</th>\n",
       "      <th>user_symptom</th>\n",
       "      <th>Support_group</th>\n",
       "      <th>support_incharge</th>\n",
       "      <th>Doc_knowledge</th>\n",
       "      <th>confirmation_check</th>\n",
       "      <th>impact</th>\n",
       "      <th>notify</th>\n",
       "      <th>problem_ID</th>\n",
       "      <th>change_request</th>\n",
       "    </tr>\n",
       "  </thead>\n",
       "  <tbody>\n",
       "    <tr>\n",
       "      <th>0</th>\n",
       "      <td>1</td>\n",
       "      <td>INC0000045</td>\n",
       "      <td>New</td>\n",
       "      <td>True</td>\n",
       "      <td>0</td>\n",
       "      <td>0</td>\n",
       "      <td>0</td>\n",
       "      <td>Caller 2403</td>\n",
       "      <td>Opened by  8</td>\n",
       "      <td>29-02-2016 01:16</td>\n",
       "      <td>...</td>\n",
       "      <td>Category 55</td>\n",
       "      <td>Symptom 72</td>\n",
       "      <td>Group 56</td>\n",
       "      <td>?</td>\n",
       "      <td>True</td>\n",
       "      <td>False</td>\n",
       "      <td>2 - Medium</td>\n",
       "      <td>Do Not Notify</td>\n",
       "      <td>?</td>\n",
       "      <td>?</td>\n",
       "    </tr>\n",
       "    <tr>\n",
       "      <th>1</th>\n",
       "      <td>3</td>\n",
       "      <td>INC0000045</td>\n",
       "      <td>Resolved</td>\n",
       "      <td>True</td>\n",
       "      <td>0</td>\n",
       "      <td>0</td>\n",
       "      <td>3</td>\n",
       "      <td>Caller 2403</td>\n",
       "      <td>Opened by  8</td>\n",
       "      <td>29-02-2016 01:16</td>\n",
       "      <td>...</td>\n",
       "      <td>Category 55</td>\n",
       "      <td>Symptom 72</td>\n",
       "      <td>Group 56</td>\n",
       "      <td>?</td>\n",
       "      <td>True</td>\n",
       "      <td>False</td>\n",
       "      <td>2 - Medium</td>\n",
       "      <td>Do Not Notify</td>\n",
       "      <td>?</td>\n",
       "      <td>?</td>\n",
       "    </tr>\n",
       "    <tr>\n",
       "      <th>2</th>\n",
       "      <td>4</td>\n",
       "      <td>INC0000045</td>\n",
       "      <td>Closed</td>\n",
       "      <td>False</td>\n",
       "      <td>0</td>\n",
       "      <td>0</td>\n",
       "      <td>4</td>\n",
       "      <td>Caller 2403</td>\n",
       "      <td>Opened by  8</td>\n",
       "      <td>29-02-2016 01:16</td>\n",
       "      <td>...</td>\n",
       "      <td>Category 55</td>\n",
       "      <td>Symptom 72</td>\n",
       "      <td>Group 56</td>\n",
       "      <td>?</td>\n",
       "      <td>True</td>\n",
       "      <td>False</td>\n",
       "      <td>2 - Medium</td>\n",
       "      <td>Do Not Notify</td>\n",
       "      <td>?</td>\n",
       "      <td>?</td>\n",
       "    </tr>\n",
       "    <tr>\n",
       "      <th>3</th>\n",
       "      <td>6</td>\n",
       "      <td>INC0000047</td>\n",
       "      <td>Active</td>\n",
       "      <td>True</td>\n",
       "      <td>1</td>\n",
       "      <td>0</td>\n",
       "      <td>1</td>\n",
       "      <td>Caller 2403</td>\n",
       "      <td>Opened by  397</td>\n",
       "      <td>29-02-2016 04:40</td>\n",
       "      <td>...</td>\n",
       "      <td>Category 40</td>\n",
       "      <td>Symptom 471</td>\n",
       "      <td>Group 24</td>\n",
       "      <td>Resolver 31</td>\n",
       "      <td>True</td>\n",
       "      <td>False</td>\n",
       "      <td>2 - Medium</td>\n",
       "      <td>Do Not Notify</td>\n",
       "      <td>?</td>\n",
       "      <td>?</td>\n",
       "    </tr>\n",
       "    <tr>\n",
       "      <th>4</th>\n",
       "      <td>7</td>\n",
       "      <td>INC0000047</td>\n",
       "      <td>Active</td>\n",
       "      <td>True</td>\n",
       "      <td>1</td>\n",
       "      <td>0</td>\n",
       "      <td>2</td>\n",
       "      <td>Caller 2403</td>\n",
       "      <td>Opened by  397</td>\n",
       "      <td>29-02-2016 04:40</td>\n",
       "      <td>...</td>\n",
       "      <td>Category 40</td>\n",
       "      <td>Symptom 471</td>\n",
       "      <td>Group 24</td>\n",
       "      <td>Resolver 31</td>\n",
       "      <td>True</td>\n",
       "      <td>False</td>\n",
       "      <td>2 - Medium</td>\n",
       "      <td>Do Not Notify</td>\n",
       "      <td>?</td>\n",
       "      <td>?</td>\n",
       "    </tr>\n",
       "  </tbody>\n",
       "</table>\n",
       "<p>5 rows × 26 columns</p>\n",
       "</div>"
      ],
      "text/plain": [
       "   Unnamed: 0          ID ID_status  active  count_reassign  count_opening  \\\n",
       "0           1  INC0000045       New    True               0              0   \n",
       "1           3  INC0000045  Resolved    True               0              0   \n",
       "2           4  INC0000045    Closed   False               0              0   \n",
       "3           6  INC0000047    Active    True               1              0   \n",
       "4           7  INC0000047    Active    True               1              0   \n",
       "\n",
       "   count_updated    ID_caller       opened_by       opened_time  ...  \\\n",
       "0              0  Caller 2403    Opened by  8  29-02-2016 01:16  ...   \n",
       "1              3  Caller 2403    Opened by  8  29-02-2016 01:16  ...   \n",
       "2              4  Caller 2403    Opened by  8  29-02-2016 01:16  ...   \n",
       "3              1  Caller 2403  Opened by  397  29-02-2016 04:40  ...   \n",
       "4              2  Caller 2403  Opened by  397  29-02-2016 04:40  ...   \n",
       "\n",
       "   category_ID user_symptom Support_group support_incharge Doc_knowledge  \\\n",
       "0  Category 55   Symptom 72      Group 56                ?          True   \n",
       "1  Category 55   Symptom 72      Group 56                ?          True   \n",
       "2  Category 55   Symptom 72      Group 56                ?          True   \n",
       "3  Category 40  Symptom 471      Group 24      Resolver 31          True   \n",
       "4  Category 40  Symptom 471      Group 24      Resolver 31          True   \n",
       "\n",
       "  confirmation_check      impact         notify problem_ID change_request  \n",
       "0              False  2 - Medium  Do Not Notify          ?              ?  \n",
       "1              False  2 - Medium  Do Not Notify          ?              ?  \n",
       "2              False  2 - Medium  Do Not Notify          ?              ?  \n",
       "3              False  2 - Medium  Do Not Notify          ?              ?  \n",
       "4              False  2 - Medium  Do Not Notify          ?              ?  \n",
       "\n",
       "[5 rows x 26 columns]"
      ]
     },
     "execution_count": 3,
     "metadata": {},
     "output_type": "execute_result"
    }
   ],
   "source": [
    "data.head()"
   ]
  },
  {
   "cell_type": "code",
   "execution_count": 4,
   "id": "49736cc2",
   "metadata": {},
   "outputs": [
    {
     "name": "stdout",
     "output_type": "stream",
     "text": [
      "<class 'pandas.core.frame.DataFrame'>\n",
      "RangeIndex: 99198 entries, 0 to 99197\n",
      "Data columns (total 26 columns):\n",
      " #   Column              Non-Null Count  Dtype \n",
      "---  ------              --------------  ----- \n",
      " 0   Unnamed: 0          99198 non-null  int64 \n",
      " 1   ID                  99198 non-null  object\n",
      " 2   ID_status           99198 non-null  object\n",
      " 3   active              99198 non-null  bool  \n",
      " 4   count_reassign      99198 non-null  int64 \n",
      " 5   count_opening       99198 non-null  int64 \n",
      " 6   count_updated       99198 non-null  int64 \n",
      " 7   ID_caller           99198 non-null  object\n",
      " 8   opened_by           99198 non-null  object\n",
      " 9   opened_time         99198 non-null  object\n",
      " 10  Created_by          99198 non-null  object\n",
      " 11  created_at          99198 non-null  object\n",
      " 12  updated_by          99198 non-null  object\n",
      " 13  updated_at          99198 non-null  object\n",
      " 14  type_contact        99198 non-null  object\n",
      " 15  location            99198 non-null  object\n",
      " 16  category_ID         99198 non-null  object\n",
      " 17  user_symptom        99198 non-null  object\n",
      " 18  Support_group       99198 non-null  object\n",
      " 19  support_incharge    99198 non-null  object\n",
      " 20  Doc_knowledge       99198 non-null  bool  \n",
      " 21  confirmation_check  99198 non-null  bool  \n",
      " 22  impact              99198 non-null  object\n",
      " 23  notify              99198 non-null  object\n",
      " 24  problem_ID          99198 non-null  object\n",
      " 25  change_request      99198 non-null  object\n",
      "dtypes: bool(3), int64(4), object(19)\n",
      "memory usage: 17.7+ MB\n"
     ]
    }
   ],
   "source": [
    "data.info()"
   ]
  },
  {
   "cell_type": "code",
   "execution_count": 5,
   "id": "5edd3024",
   "metadata": {},
   "outputs": [
    {
     "data": {
      "text/plain": [
       "Unnamed: 0            0\n",
       "ID                    0\n",
       "ID_status             0\n",
       "active                0\n",
       "count_reassign        0\n",
       "count_opening         0\n",
       "count_updated         0\n",
       "ID_caller             0\n",
       "opened_by             0\n",
       "opened_time           0\n",
       "Created_by            0\n",
       "created_at            0\n",
       "updated_by            0\n",
       "updated_at            0\n",
       "type_contact          0\n",
       "location              0\n",
       "category_ID           0\n",
       "user_symptom          0\n",
       "Support_group         0\n",
       "support_incharge      0\n",
       "Doc_knowledge         0\n",
       "confirmation_check    0\n",
       "impact                0\n",
       "notify                0\n",
       "problem_ID            0\n",
       "change_request        0\n",
       "dtype: int64"
      ]
     },
     "execution_count": 5,
     "metadata": {},
     "output_type": "execute_result"
    }
   ],
   "source": [
    "data.isnull().sum()"
   ]
  },
  {
   "cell_type": "code",
   "execution_count": 6,
   "id": "1ab09555",
   "metadata": {},
   "outputs": [],
   "source": [
    "from sklearn.preprocessing import LabelEncoder"
   ]
  },
  {
   "cell_type": "code",
   "execution_count": 7,
   "id": "48d8b93e",
   "metadata": {},
   "outputs": [],
   "source": [
    "label = LabelEncoder()\n",
    "data['ID'] = label.fit_transform(data['ID'])\n",
    "data['ID_status'] = label.fit_transform(data['ID_status'])\n",
    "data['ID_caller'] = label.fit_transform(data['ID_caller'])\n",
    "data['opened_by'] = label.fit_transform(data['opened_by'])\n",
    "data['opened_time'] = label.fit_transform(data['opened_time'])\n",
    "data['Created_by'] = label.fit_transform(data['Created_by'])\n",
    "data['created_at'] = label.fit_transform(data['created_at'])\n",
    "data['updated_by'] = label.fit_transform(data['updated_by'])\n",
    "data['updated_at'] = label.fit_transform(data['updated_at'])\n",
    "data['type_contact'] = label.fit_transform(data['type_contact'])\n",
    "data['location'] = label.fit_transform(data['location'])\n",
    "data['category_ID'] = label.fit_transform(data['category_ID'])\n",
    "data['user_symptom'] = label.fit_transform(data['user_symptom'])\n",
    "data['Support_group'] = label.fit_transform(data['Support_group'])\n",
    "data['support_incharge'] = label.fit_transform(data['support_incharge'])\n",
    "data['impact'] = label.fit_transform(data['impact'])\n",
    "data['notify'] = label.fit_transform(data['notify'])\n",
    "data['problem_ID'] = label.fit_transform(data['problem_ID'])\n",
    "data['change_request'] = label.fit_transform(data['change_request'])\n",
    "data['active'] = label.fit_transform(data['active'])\n",
    "data['Doc_knowledge'] = label.fit_transform(data['Doc_knowledge'])\n",
    "data['confirmation_check'] = label.fit_transform(data['confirmation_check'])"
   ]
  },
  {
   "cell_type": "code",
   "execution_count": 8,
   "id": "8ddf4a62",
   "metadata": {},
   "outputs": [
    {
     "data": {
      "text/html": [
       "<div>\n",
       "<style scoped>\n",
       "    .dataframe tbody tr th:only-of-type {\n",
       "        vertical-align: middle;\n",
       "    }\n",
       "\n",
       "    .dataframe tbody tr th {\n",
       "        vertical-align: top;\n",
       "    }\n",
       "\n",
       "    .dataframe thead th {\n",
       "        text-align: right;\n",
       "    }\n",
       "</style>\n",
       "<table border=\"1\" class=\"dataframe\">\n",
       "  <thead>\n",
       "    <tr style=\"text-align: right;\">\n",
       "      <th></th>\n",
       "      <th>Unnamed: 0</th>\n",
       "      <th>ID</th>\n",
       "      <th>ID_status</th>\n",
       "      <th>active</th>\n",
       "      <th>count_reassign</th>\n",
       "      <th>count_opening</th>\n",
       "      <th>count_updated</th>\n",
       "      <th>ID_caller</th>\n",
       "      <th>opened_by</th>\n",
       "      <th>opened_time</th>\n",
       "      <th>...</th>\n",
       "      <th>category_ID</th>\n",
       "      <th>user_symptom</th>\n",
       "      <th>Support_group</th>\n",
       "      <th>support_incharge</th>\n",
       "      <th>Doc_knowledge</th>\n",
       "      <th>confirmation_check</th>\n",
       "      <th>impact</th>\n",
       "      <th>notify</th>\n",
       "      <th>problem_ID</th>\n",
       "      <th>change_request</th>\n",
       "    </tr>\n",
       "  </thead>\n",
       "  <tbody>\n",
       "    <tr>\n",
       "      <th>0</th>\n",
       "      <td>1</td>\n",
       "      <td>0</td>\n",
       "      <td>7</td>\n",
       "      <td>1</td>\n",
       "      <td>0</td>\n",
       "      <td>0</td>\n",
       "      <td>0</td>\n",
       "      <td>1456</td>\n",
       "      <td>201</td>\n",
       "      <td>17638</td>\n",
       "      <td>...</td>\n",
       "      <td>45</td>\n",
       "      <td>492</td>\n",
       "      <td>47</td>\n",
       "      <td>0</td>\n",
       "      <td>1</td>\n",
       "      <td>0</td>\n",
       "      <td>1</td>\n",
       "      <td>0</td>\n",
       "      <td>0</td>\n",
       "      <td>0</td>\n",
       "    </tr>\n",
       "    <tr>\n",
       "      <th>1</th>\n",
       "      <td>3</td>\n",
       "      <td>0</td>\n",
       "      <td>8</td>\n",
       "      <td>1</td>\n",
       "      <td>0</td>\n",
       "      <td>0</td>\n",
       "      <td>3</td>\n",
       "      <td>1456</td>\n",
       "      <td>201</td>\n",
       "      <td>17638</td>\n",
       "      <td>...</td>\n",
       "      <td>45</td>\n",
       "      <td>492</td>\n",
       "      <td>47</td>\n",
       "      <td>0</td>\n",
       "      <td>1</td>\n",
       "      <td>0</td>\n",
       "      <td>1</td>\n",
       "      <td>0</td>\n",
       "      <td>0</td>\n",
       "      <td>0</td>\n",
       "    </tr>\n",
       "    <tr>\n",
       "      <th>2</th>\n",
       "      <td>4</td>\n",
       "      <td>0</td>\n",
       "      <td>6</td>\n",
       "      <td>0</td>\n",
       "      <td>0</td>\n",
       "      <td>0</td>\n",
       "      <td>4</td>\n",
       "      <td>1456</td>\n",
       "      <td>201</td>\n",
       "      <td>17638</td>\n",
       "      <td>...</td>\n",
       "      <td>45</td>\n",
       "      <td>492</td>\n",
       "      <td>47</td>\n",
       "      <td>0</td>\n",
       "      <td>1</td>\n",
       "      <td>0</td>\n",
       "      <td>1</td>\n",
       "      <td>0</td>\n",
       "      <td>0</td>\n",
       "      <td>0</td>\n",
       "    </tr>\n",
       "    <tr>\n",
       "      <th>3</th>\n",
       "      <td>6</td>\n",
       "      <td>1</td>\n",
       "      <td>1</td>\n",
       "      <td>1</td>\n",
       "      <td>1</td>\n",
       "      <td>0</td>\n",
       "      <td>1</td>\n",
       "      <td>1456</td>\n",
       "      <td>121</td>\n",
       "      <td>17639</td>\n",
       "      <td>...</td>\n",
       "      <td>30</td>\n",
       "      <td>345</td>\n",
       "      <td>15</td>\n",
       "      <td>165</td>\n",
       "      <td>1</td>\n",
       "      <td>0</td>\n",
       "      <td>1</td>\n",
       "      <td>0</td>\n",
       "      <td>0</td>\n",
       "      <td>0</td>\n",
       "    </tr>\n",
       "    <tr>\n",
       "      <th>4</th>\n",
       "      <td>7</td>\n",
       "      <td>1</td>\n",
       "      <td>1</td>\n",
       "      <td>1</td>\n",
       "      <td>1</td>\n",
       "      <td>0</td>\n",
       "      <td>2</td>\n",
       "      <td>1456</td>\n",
       "      <td>121</td>\n",
       "      <td>17639</td>\n",
       "      <td>...</td>\n",
       "      <td>30</td>\n",
       "      <td>345</td>\n",
       "      <td>15</td>\n",
       "      <td>165</td>\n",
       "      <td>1</td>\n",
       "      <td>0</td>\n",
       "      <td>1</td>\n",
       "      <td>0</td>\n",
       "      <td>0</td>\n",
       "      <td>0</td>\n",
       "    </tr>\n",
       "  </tbody>\n",
       "</table>\n",
       "<p>5 rows × 26 columns</p>\n",
       "</div>"
      ],
      "text/plain": [
       "   Unnamed: 0  ID  ID_status  active  count_reassign  count_opening  \\\n",
       "0           1   0          7       1               0              0   \n",
       "1           3   0          8       1               0              0   \n",
       "2           4   0          6       0               0              0   \n",
       "3           6   1          1       1               1              0   \n",
       "4           7   1          1       1               1              0   \n",
       "\n",
       "   count_updated  ID_caller  opened_by  opened_time  ...  category_ID  \\\n",
       "0              0       1456        201        17638  ...           45   \n",
       "1              3       1456        201        17638  ...           45   \n",
       "2              4       1456        201        17638  ...           45   \n",
       "3              1       1456        121        17639  ...           30   \n",
       "4              2       1456        121        17639  ...           30   \n",
       "\n",
       "   user_symptom  Support_group  support_incharge  Doc_knowledge  \\\n",
       "0           492             47                 0              1   \n",
       "1           492             47                 0              1   \n",
       "2           492             47                 0              1   \n",
       "3           345             15               165              1   \n",
       "4           345             15               165              1   \n",
       "\n",
       "   confirmation_check  impact  notify  problem_ID  change_request  \n",
       "0                   0       1       0           0               0  \n",
       "1                   0       1       0           0               0  \n",
       "2                   0       1       0           0               0  \n",
       "3                   0       1       0           0               0  \n",
       "4                   0       1       0           0               0  \n",
       "\n",
       "[5 rows x 26 columns]"
      ]
     },
     "execution_count": 8,
     "metadata": {},
     "output_type": "execute_result"
    }
   ],
   "source": [
    "data.head()"
   ]
  },
  {
   "cell_type": "code",
   "execution_count": 9,
   "id": "205753f6",
   "metadata": {},
   "outputs": [
    {
     "name": "stdout",
     "output_type": "stream",
     "text": [
      "<class 'pandas.core.frame.DataFrame'>\n",
      "RangeIndex: 99198 entries, 0 to 99197\n",
      "Data columns (total 26 columns):\n",
      " #   Column              Non-Null Count  Dtype\n",
      "---  ------              --------------  -----\n",
      " 0   Unnamed: 0          99198 non-null  int64\n",
      " 1   ID                  99198 non-null  int32\n",
      " 2   ID_status           99198 non-null  int32\n",
      " 3   active              99198 non-null  int64\n",
      " 4   count_reassign      99198 non-null  int64\n",
      " 5   count_opening       99198 non-null  int64\n",
      " 6   count_updated       99198 non-null  int64\n",
      " 7   ID_caller           99198 non-null  int32\n",
      " 8   opened_by           99198 non-null  int32\n",
      " 9   opened_time         99198 non-null  int32\n",
      " 10  Created_by          99198 non-null  int32\n",
      " 11  created_at          99198 non-null  int32\n",
      " 12  updated_by          99198 non-null  int32\n",
      " 13  updated_at          99198 non-null  int32\n",
      " 14  type_contact        99198 non-null  int32\n",
      " 15  location            99198 non-null  int32\n",
      " 16  category_ID         99198 non-null  int32\n",
      " 17  user_symptom        99198 non-null  int32\n",
      " 18  Support_group       99198 non-null  int32\n",
      " 19  support_incharge    99198 non-null  int32\n",
      " 20  Doc_knowledge       99198 non-null  int64\n",
      " 21  confirmation_check  99198 non-null  int64\n",
      " 22  impact              99198 non-null  int32\n",
      " 23  notify              99198 non-null  int32\n",
      " 24  problem_ID          99198 non-null  int32\n",
      " 25  change_request      99198 non-null  int32\n",
      "dtypes: int32(19), int64(7)\n",
      "memory usage: 12.5 MB\n"
     ]
    }
   ],
   "source": [
    "data.info()"
   ]
  },
  {
   "cell_type": "code",
   "execution_count": 10,
   "id": "4c2148bd",
   "metadata": {},
   "outputs": [
    {
     "data": {
      "text/plain": [
       "<AxesSubplot:>"
      ]
     },
     "execution_count": 10,
     "metadata": {},
     "output_type": "execute_result"
    },
    {
     "data": {
      "image/png": "[encoded data removed]",
      "text/plain": [
       "<Figure size 432x288 with 2 Axes>"
      ]
     },
     "metadata": {
      "needs_background": "light"
     },
     "output_type": "display_data"
    }
   ],
   "source": [
    "sns.heatmap(data=data.corr())"
   ]
  },
  {
   "cell_type": "code",
   "execution_count": 11,
   "id": "e14b7b3f",
   "metadata": {},
   "outputs": [],
   "source": [
    "x = data.drop(['impact'],axis=1)"
   ]
  },
  {
   "cell_type": "code",
   "execution_count": 12,
   "id": "d0917d04",
   "metadata": {},
   "outputs": [
    {
     "data": {
      "text/html": [
       "<div>\n",
       "<style scoped>\n",
       "    .dataframe tbody tr th:only-of-type {\n",
       "        vertical-align: middle;\n",
       "    }\n",
       "\n",
       "    .dataframe tbody tr th {\n",
       "        vertical-align: top;\n",
       "    }\n",
       "\n",
       "    .dataframe thead th {\n",
       "        text-align: right;\n",
       "    }\n",
       "</style>\n",
       "<table border=\"1\" class=\"dataframe\">\n",
       "  <thead>\n",
       "    <tr style=\"text-align: right;\">\n",
       "      <th></th>\n",
       "      <th>Unnamed: 0</th>\n",
       "      <th>ID</th>\n",
       "      <th>ID_status</th>\n",
       "      <th>active</th>\n",
       "      <th>count_reassign</th>\n",
       "      <th>count_opening</th>\n",
       "      <th>count_updated</th>\n",
       "      <th>ID_caller</th>\n",
       "      <th>opened_by</th>\n",
       "      <th>opened_time</th>\n",
       "      <th>...</th>\n",
       "      <th>location</th>\n",
       "      <th>category_ID</th>\n",
       "      <th>user_symptom</th>\n",
       "      <th>Support_group</th>\n",
       "      <th>support_incharge</th>\n",
       "      <th>Doc_knowledge</th>\n",
       "      <th>confirmation_check</th>\n",
       "      <th>notify</th>\n",
       "      <th>problem_ID</th>\n",
       "      <th>change_request</th>\n",
       "    </tr>\n",
       "  </thead>\n",
       "  <tbody>\n",
       "    <tr>\n",
       "      <th>0</th>\n",
       "      <td>1</td>\n",
       "      <td>0</td>\n",
       "      <td>7</td>\n",
       "      <td>1</td>\n",
       "      <td>0</td>\n",
       "      <td>0</td>\n",
       "      <td>0</td>\n",
       "      <td>1456</td>\n",
       "      <td>201</td>\n",
       "      <td>17638</td>\n",
       "      <td>...</td>\n",
       "      <td>44</td>\n",
       "      <td>45</td>\n",
       "      <td>492</td>\n",
       "      <td>47</td>\n",
       "      <td>0</td>\n",
       "      <td>1</td>\n",
       "      <td>0</td>\n",
       "      <td>0</td>\n",
       "      <td>0</td>\n",
       "      <td>0</td>\n",
       "    </tr>\n",
       "    <tr>\n",
       "      <th>1</th>\n",
       "      <td>3</td>\n",
       "      <td>0</td>\n",
       "      <td>8</td>\n",
       "      <td>1</td>\n",
       "      <td>0</td>\n",
       "      <td>0</td>\n",
       "      <td>3</td>\n",
       "      <td>1456</td>\n",
       "      <td>201</td>\n",
       "      <td>17638</td>\n",
       "      <td>...</td>\n",
       "      <td>44</td>\n",
       "      <td>45</td>\n",
       "      <td>492</td>\n",
       "      <td>47</td>\n",
       "      <td>0</td>\n",
       "      <td>1</td>\n",
       "      <td>0</td>\n",
       "      <td>0</td>\n",
       "      <td>0</td>\n",
       "      <td>0</td>\n",
       "    </tr>\n",
       "    <tr>\n",
       "      <th>2</th>\n",
       "      <td>4</td>\n",
       "      <td>0</td>\n",
       "      <td>6</td>\n",
       "      <td>0</td>\n",
       "      <td>0</td>\n",
       "      <td>0</td>\n",
       "      <td>4</td>\n",
       "      <td>1456</td>\n",
       "      <td>201</td>\n",
       "      <td>17638</td>\n",
       "      <td>...</td>\n",
       "      <td>44</td>\n",
       "      <td>45</td>\n",
       "      <td>492</td>\n",
       "      <td>47</td>\n",
       "      <td>0</td>\n",
       "      <td>1</td>\n",
       "      <td>0</td>\n",
       "      <td>0</td>\n",
       "      <td>0</td>\n",
       "      <td>0</td>\n",
       "    </tr>\n",
       "    <tr>\n",
       "      <th>3</th>\n",
       "      <td>6</td>\n",
       "      <td>1</td>\n",
       "      <td>1</td>\n",
       "      <td>1</td>\n",
       "      <td>1</td>\n",
       "      <td>0</td>\n",
       "      <td>1</td>\n",
       "      <td>1456</td>\n",
       "      <td>121</td>\n",
       "      <td>17639</td>\n",
       "      <td>...</td>\n",
       "      <td>63</td>\n",
       "      <td>30</td>\n",
       "      <td>345</td>\n",
       "      <td>15</td>\n",
       "      <td>165</td>\n",
       "      <td>1</td>\n",
       "      <td>0</td>\n",
       "      <td>0</td>\n",
       "      <td>0</td>\n",
       "      <td>0</td>\n",
       "    </tr>\n",
       "    <tr>\n",
       "      <th>4</th>\n",
       "      <td>7</td>\n",
       "      <td>1</td>\n",
       "      <td>1</td>\n",
       "      <td>1</td>\n",
       "      <td>1</td>\n",
       "      <td>0</td>\n",
       "      <td>2</td>\n",
       "      <td>1456</td>\n",
       "      <td>121</td>\n",
       "      <td>17639</td>\n",
       "      <td>...</td>\n",
       "      <td>63</td>\n",
       "      <td>30</td>\n",
       "      <td>345</td>\n",
       "      <td>15</td>\n",
       "      <td>165</td>\n",
       "      <td>1</td>\n",
       "      <td>0</td>\n",
       "      <td>0</td>\n",
       "      <td>0</td>\n",
       "      <td>0</td>\n",
       "    </tr>\n",
       "  </tbody>\n",
       "</table>\n",
       "<p>5 rows × 25 columns</p>\n",
       "</div>"
      ],
      "text/plain": [
       "   Unnamed: 0  ID  ID_status  active  count_reassign  count_opening  \\\n",
       "0           1   0          7       1               0              0   \n",
       "1           3   0          8       1               0              0   \n",
       "2           4   0          6       0               0              0   \n",
       "3           6   1          1       1               1              0   \n",
       "4           7   1          1       1               1              0   \n",
       "\n",
       "   count_updated  ID_caller  opened_by  opened_time  ...  location  \\\n",
       "0              0       1456        201        17638  ...        44   \n",
       "1              3       1456        201        17638  ...        44   \n",
       "2              4       1456        201        17638  ...        44   \n",
       "3              1       1456        121        17639  ...        63   \n",
       "4              2       1456        121        17639  ...        63   \n",
       "\n",
       "   category_ID  user_symptom  Support_group  support_incharge  Doc_knowledge  \\\n",
       "0           45           492             47                 0              1   \n",
       "1           45           492             47                 0              1   \n",
       "2           45           492             47                 0              1   \n",
       "3           30           345             15               165              1   \n",
       "4           30           345             15               165              1   \n",
       "\n",
       "   confirmation_check  notify  problem_ID  change_request  \n",
       "0                   0       0           0               0  \n",
       "1                   0       0           0               0  \n",
       "2                   0       0           0               0  \n",
       "3                   0       0           0               0  \n",
       "4                   0       0           0               0  \n",
       "\n",
       "[5 rows x 25 columns]"
      ]
     },
     "execution_count": 12,
     "metadata": {},
     "output_type": "execute_result"
    }
   ],
   "source": [
    "x.head()"
   ]
  },
  {
   "cell_type": "code",
   "execution_count": 13,
   "id": "849dcd12",
   "metadata": {},
   "outputs": [],
   "source": [
    "y = data['impact']"
   ]
  },
  {
   "cell_type": "code",
   "execution_count": 14,
   "id": "7e36203b",
   "metadata": {},
   "outputs": [
    {
     "data": {
      "text/plain": [
       "0    1\n",
       "1    1\n",
       "2    1\n",
       "3    1\n",
       "4    1\n",
       "Name: impact, dtype: int32"
      ]
     },
     "execution_count": 14,
     "metadata": {},
     "output_type": "execute_result"
    }
   ],
   "source": [
    "y.head()"
   ]
  },
  {
   "cell_type": "code",
   "execution_count": 15,
   "id": "4464233a",
   "metadata": {},
   "outputs": [],
   "source": [
    "from sklearn.model_selection import train_test_split"
   ]
  },
  {
   "cell_type": "code",
   "execution_count": 16,
   "id": "88d49106",
   "metadata": {},
   "outputs": [],
   "source": [
    "x_train,x_test,y_train,y_test = train_test_split(x,y,test_size=0.2,random_state=0)"
   ]
  },
  {
   "cell_type": "code",
   "execution_count": 17,
   "id": "2f438264",
   "metadata": {},
   "outputs": [
    {
     "data": {
      "text/plain": [
       "79358"
      ]
     },
     "execution_count": 17,
     "metadata": {},
     "output_type": "execute_result"
    }
   ],
   "source": [
    "len(x_train)"
   ]
  },
  {
   "cell_type": "code",
   "execution_count": 18,
   "id": "dcb38c58",
   "metadata": {},
   "outputs": [
    {
     "data": {
      "text/plain": [
       "19840"
      ]
     },
     "execution_count": 18,
     "metadata": {},
     "output_type": "execute_result"
    }
   ],
   "source": [
    "len(x_test)"
   ]
  },
  {
   "cell_type": "code",
   "execution_count": 19,
   "id": "840311d6",
   "metadata": {},
   "outputs": [],
   "source": [
    "from sklearn.tree import DecisionTreeClassifier"
   ]
  },
  {
   "cell_type": "code",
   "execution_count": 20,
   "id": "3be4a755",
   "metadata": {},
   "outputs": [],
   "source": [
    "tree = DecisionTreeClassifier()"
   ]
  },
  {
   "cell_type": "code",
   "execution_count": 21,
   "id": "29da758b",
   "metadata": {},
   "outputs": [
    {
     "data": {
      "text/plain": [
       "DecisionTreeClassifier()"
      ]
     },
     "execution_count": 21,
     "metadata": {},
     "output_type": "execute_result"
    }
   ],
   "source": [
    "tree.fit(x_train,y_train)"
   ]
  },
  {
   "cell_type": "code",
   "execution_count": 22,
   "id": "0af15a32",
   "metadata": {},
   "outputs": [
    {
     "data": {
      "text/plain": [
       "98.49798387096774"
      ]
     },
     "execution_count": 22,
     "metadata": {},
     "output_type": "execute_result"
    }
   ],
   "source": [
    "tree_accuracy_score = tree.score(x_test,y_test) * 100\n",
    "tree_accuracy_score"
   ]
  },
  {
   "cell_type": "code",
   "execution_count": 23,
   "id": "755e6ac4",
   "metadata": {},
   "outputs": [
    {
     "data": {
      "text/plain": [
       "array([1, 1, 1, ..., 1, 1, 1])"
      ]
     },
     "execution_count": 23,
     "metadata": {},
     "output_type": "execute_result"
    }
   ],
   "source": [
    "pred = tree.predict(x_test)\n",
    "pred"
   ]
  },
  {
   "cell_type": "code",
   "execution_count": 24,
   "id": "29f6778e",
   "metadata": {},
   "outputs": [],
   "source": [
    "from sklearn.metrics import accuracy_score,classification_report,confusion_matrix"
   ]
  },
  {
   "cell_type": "code",
   "execution_count": 25,
   "id": "f64df754",
   "metadata": {},
   "outputs": [
    {
     "name": "stdout",
     "output_type": "stream",
     "text": [
      "Classification Report:\n",
      "              precision    recall  f1-score   support\n",
      "\n",
      "           0       0.83      0.79      0.81       507\n",
      "           1       0.99      0.99      0.99     18744\n",
      "           2       0.92      0.87      0.89       589\n",
      "\n",
      "    accuracy                           0.98     19840\n",
      "   macro avg       0.91      0.89      0.90     19840\n",
      "weighted avg       0.98      0.98      0.98     19840\n",
      "\n",
      "Confusion Matrix\n",
      "[[  403    74     9]\n",
      " [  101 18626    67]\n",
      " [    3    44   513]]\n"
     ]
    }
   ],
   "source": [
    "report = classification_report(pred,y_test)\n",
    "cm = confusion_matrix(y_test,pred)\n",
    "print(\"Classification Report:\\n\"+ report)\n",
    "print(\"Confusion Matrix\")\n",
    "print(cm)"
   ]
  },
  {
   "cell_type": "code",
   "execution_count": 26,
   "id": "34005d1a",
   "metadata": {},
   "outputs": [],
   "source": [
    "from sklearn.ensemble import RandomForestClassifier"
   ]
  },
  {
   "cell_type": "code",
   "execution_count": 27,
   "id": "b576cdc5",
   "metadata": {},
   "outputs": [],
   "source": [
    "random = RandomForestClassifier()"
   ]
  },
  {
   "cell_type": "code",
   "execution_count": 28,
   "id": "e878bb08",
   "metadata": {},
   "outputs": [
    {
     "data": {
      "text/plain": [
       "RandomForestClassifier()"
      ]
     },
     "execution_count": 28,
     "metadata": {},
     "output_type": "execute_result"
    }
   ],
   "source": [
    "random.fit(x_train,y_train)"
   ]
  },
  {
   "cell_type": "code",
   "execution_count": 29,
   "id": "f994562c",
   "metadata": {},
   "outputs": [
    {
     "data": {
      "text/plain": [
       "98.71975806451613"
      ]
     },
     "execution_count": 29,
     "metadata": {},
     "output_type": "execute_result"
    }
   ],
   "source": [
    "random_accuracyscore = random.score(x_test,y_test) * 100\n",
    "random_accuracyscore"
   ]
  },
  {
   "cell_type": "code",
   "execution_count": 30,
   "id": "9a7338b0",
   "metadata": {},
   "outputs": [
    {
     "data": {
      "text/plain": [
       "array([1, 1, 1, ..., 1, 1, 1])"
      ]
     },
     "execution_count": 30,
     "metadata": {},
     "output_type": "execute_result"
    }
   ],
   "source": [
    "y_pred = random.predict(x_test)\n",
    "y_pred"
   ]
  },
  {
   "cell_type": "code",
   "execution_count": 31,
   "id": "bee9f1e3",
   "metadata": {},
   "outputs": [
    {
     "name": "stdout",
     "output_type": "stream",
     "text": [
      "Classification Report:\n",
      "              precision    recall  f1-score   support\n",
      "\n",
      "           0       0.77      0.95      0.85       393\n",
      "           1       1.00      0.99      0.99     18981\n",
      "           2       0.81      0.97      0.88       466\n",
      "\n",
      "    accuracy                           0.99     19840\n",
      "   macro avg       0.86      0.97      0.91     19840\n",
      "weighted avg       0.99      0.99      0.99     19840\n",
      "\n",
      "Confusion Matrix\n",
      "[[  373   112     1]\n",
      " [   18 18762    14]\n",
      " [    2   107   451]]\n"
     ]
    }
   ],
   "source": [
    "report = classification_report(y_pred,y_test)\n",
    "cm = confusion_matrix(y_test,y_pred)\n",
    "print(\"Classification Report:\\n\"+ report)\n",
    "print(\"Confusion Matrix\")\n",
    "print(cm)"
   ]
  }
 ],
 "metadata": {
  "kernelspec": {
   "display_name": "Python 3 (ipykernel)",
   "language": "python",
   "name": "python3"
  },
  "language_info": {
   "codemirror_mode": {
    "name": "ipython",
    "version": 3
   },
   "file_extension": ".py",
   "mimetype": "text/x-python",
   "name": "python",
   "nbconvert_exporter": "python",
   "pygments_lexer": "ipython3",
   "version": "3.9.7"
  }
 },
 "nbformat": 4,
 "nbformat_minor": 5
}
